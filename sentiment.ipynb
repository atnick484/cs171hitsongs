{
 "cells": [
  {
   "cell_type": "code",
   "execution_count": 1,
   "metadata": {},
   "outputs": [
    {
     "name": "stderr",
     "output_type": "stream",
     "text": [
      "/Library/Frameworks/Python.framework/Versions/3.9/lib/python3.9/site-packages/tqdm/auto.py:22: TqdmWarning: IProgress not found. Please update jupyter and ipywidgets. See https://ipywidgets.readthedocs.io/en/stable/user_install.html\n",
      "  from .autonotebook import tqdm as notebook_tqdm\n",
      "2022-12-04 10:55:21.881491: I tensorflow/core/platform/cpu_feature_guard.cc:193] This TensorFlow binary is optimized with oneAPI Deep Neural Network Library (oneDNN) to use the following CPU instructions in performance-critical operations:  AVX2 FMA\n",
      "To enable them in other operations, rebuild TensorFlow with the appropriate compiler flags.\n"
     ]
    }
   ],
   "source": [
    "from bs4 import BeautifulSoup\n",
    "import requests\n",
    "import re\n",
    "import pandas as pd\n",
    "import numpy as np\n",
    "from transformers import pipeline\n",
    "import tensorflow\n",
    "\n",
    "from ast import literal_eval"
   ]
  },
  {
   "cell_type": "code",
   "execution_count": 2,
   "metadata": {},
   "outputs": [
    {
     "name": "stderr",
     "output_type": "stream",
     "text": [
      "No model was supplied, defaulted to distilbert-base-uncased-finetuned-sst-2-english and revision af0f99b (https://huggingface.co/distilbert-base-uncased-finetuned-sst-2-english).\n",
      "Using a pipeline without specifying a model name and revision in production is not recommended.\n",
      "Downloading: 100%|██████████| 268M/268M [00:16<00:00, 16.2MB/s] \n",
      "2022-12-04 10:55:54.203343: I tensorflow/core/platform/cpu_feature_guard.cc:193] This TensorFlow binary is optimized with oneAPI Deep Neural Network Library (oneDNN) to use the following CPU instructions in performance-critical operations:  AVX2 FMA\n",
      "To enable them in other operations, rebuild TensorFlow with the appropriate compiler flags.\n",
      "All model checkpoint layers were used when initializing TFDistilBertForSequenceClassification.\n",
      "\n",
      "All the layers of TFDistilBertForSequenceClassification were initialized from the model checkpoint at distilbert-base-uncased-finetuned-sst-2-english.\n",
      "If your task is similar to the task the model of the checkpoint was trained on, you can already use TFDistilBertForSequenceClassification for predictions without further training.\n",
      "Downloading: 100%|██████████| 48.0/48.0 [00:00<00:00, 23.9kB/s]\n",
      "Downloading: 100%|██████████| 232k/232k [00:00<00:00, 3.23MB/s]\n"
     ]
    }
   ],
   "source": [
    "sentiment_pipeline = pipeline(\"sentiment-analysis\")"
   ]
  },
  {
   "cell_type": "code",
   "execution_count": 6,
   "metadata": {},
   "outputs": [
    {
     "data": {
      "text/plain": [
       "[{'label': 'POSITIVE', 'score': 0.9998656511306763},\n",
       " {'label': 'NEGATIVE', 'score': 0.9845187664031982},\n",
       " {'label': 'NEGATIVE', 'score': 0.9984996318817139}]"
      ]
     },
     "execution_count": 6,
     "metadata": {},
     "output_type": "execute_result"
    }
   ],
   "source": [
    "data = [\"I love you\", \"I am running a marathon without shoes\"]\n",
    "sentiment_pipeline(data)"
   ]
  },
  {
   "cell_type": "code",
   "execution_count": 33,
   "metadata": {},
   "outputs": [
    {
     "data": {
      "text/html": [
       "<div>\n",
       "<style scoped>\n",
       "    .dataframe tbody tr th:only-of-type {\n",
       "        vertical-align: middle;\n",
       "    }\n",
       "\n",
       "    .dataframe tbody tr th {\n",
       "        vertical-align: top;\n",
       "    }\n",
       "\n",
       "    .dataframe thead th {\n",
       "        text-align: right;\n",
       "    }\n",
       "</style>\n",
       "<table border=\"1\" class=\"dataframe\">\n",
       "  <thead>\n",
       "    <tr style=\"text-align: right;\">\n",
       "      <th></th>\n",
       "      <th>song</th>\n",
       "      <th>artist</th>\n",
       "      <th>url</th>\n",
       "      <th>lyrics</th>\n",
       "      <th>lyrics_text</th>\n",
       "      <th>rank</th>\n",
       "      <th>peak_rank</th>\n",
       "      <th>weeks_on_board</th>\n",
       "      <th>last_week</th>\n",
       "      <th>genre</th>\n",
       "      <th>...</th>\n",
       "      <th>Unnamed: 1678</th>\n",
       "      <th>Unnamed: 1679</th>\n",
       "      <th>Unnamed: 1680</th>\n",
       "      <th>Unnamed: 1681</th>\n",
       "      <th>Unnamed: 1682</th>\n",
       "      <th>Unnamed: 1683</th>\n",
       "      <th>Unnamed: 1684</th>\n",
       "      <th>Unnamed: 1685</th>\n",
       "      <th>Unnamed: 1686</th>\n",
       "      <th>Unnamed: 1687</th>\n",
       "    </tr>\n",
       "  </thead>\n",
       "  <tbody>\n",
       "    <tr>\n",
       "      <th>0</th>\n",
       "      <td>Physical</td>\n",
       "      <td>Olivia Newton-John</td>\n",
       "      <td>https://genius.com/Olivia-newton-john-physical...</td>\n",
       "      <td>[('[Verse 1]', \"i'm sayin' all the things that...</td>\n",
       "      <td>i'm sayin' all the things that i know you'll l...</td>\n",
       "      <td>{'1982-03-27': 95, '1982-03-20': 56, '1982-03-...</td>\n",
       "      <td>{'1982-03-27': 1, '1982-03-20': 1, '1982-03-13...</td>\n",
       "      <td>{'1982-03-27': 26, '1982-03-20': 25, '1982-03-...</td>\n",
       "      <td>{'1982-03-27': 56.0, '1982-03-20': 46.0, '1982...</td>\n",
       "      <td>['adult standards', 'australian dance', 'disco...</td>\n",
       "      <td>...</td>\n",
       "      <td>NaN</td>\n",
       "      <td>NaN</td>\n",
       "      <td>NaN</td>\n",
       "      <td>NaN</td>\n",
       "      <td>NaN</td>\n",
       "      <td>NaN</td>\n",
       "      <td>NaN</td>\n",
       "      <td>NaN</td>\n",
       "      <td>NaN</td>\n",
       "      <td>NaN</td>\n",
       "    </tr>\n",
       "    <tr>\n",
       "      <th>1</th>\n",
       "      <td>Let Love Rule</td>\n",
       "      <td>Lenny Kravitz</td>\n",
       "      <td>https://genius.com/Lenny-kravitz-let-love-rule...</td>\n",
       "      <td>[('[Verse 1]', \"love is gentle as a rose and l...</td>\n",
       "      <td>love is gentle as a rose and love can conquer ...</td>\n",
       "      <td>{'1990-02-17': 99, '1990-02-10': 91, '1990-02-...</td>\n",
       "      <td>{'1990-02-17': 89, '1990-02-10': 89, '1990-02-...</td>\n",
       "      <td>{'1990-02-17': 4, '1990-02-10': 3, '1990-02-03...</td>\n",
       "      <td>{'1990-02-17': 91.0, '1990-02-10': 89.0, '1990...</td>\n",
       "      <td>['permanent wave', 'pop rock', 'rock']</td>\n",
       "      <td>...</td>\n",
       "      <td>NaN</td>\n",
       "      <td>NaN</td>\n",
       "      <td>NaN</td>\n",
       "      <td>NaN</td>\n",
       "      <td>NaN</td>\n",
       "      <td>NaN</td>\n",
       "      <td>NaN</td>\n",
       "      <td>NaN</td>\n",
       "      <td>NaN</td>\n",
       "      <td>NaN</td>\n",
       "    </tr>\n",
       "    <tr>\n",
       "      <th>2</th>\n",
       "      <td>On And On And On</td>\n",
       "      <td>ABBA</td>\n",
       "      <td>https://genius.com/Abba-on-and-on-and-on-lyrics</td>\n",
       "      <td>[('[Verse 1]', 'i was at a party and this fell...</td>\n",
       "      <td>i was at a party and this fella said to me \"so...</td>\n",
       "      <td>{'1981-08-01': 99, '1981-07-25': 94, '1981-07-...</td>\n",
       "      <td>{'1981-08-01': 90, '1981-07-25': 90, '1981-07-...</td>\n",
       "      <td>{'1981-08-01': 6, '1981-07-25': 5, '1981-07-18...</td>\n",
       "      <td>{'1981-08-01': 94.0, '1981-07-25': 95.0, '1981...</td>\n",
       "      <td>['europop', 'swedish pop']</td>\n",
       "      <td>...</td>\n",
       "      <td>NaN</td>\n",
       "      <td>NaN</td>\n",
       "      <td>NaN</td>\n",
       "      <td>NaN</td>\n",
       "      <td>NaN</td>\n",
       "      <td>NaN</td>\n",
       "      <td>NaN</td>\n",
       "      <td>NaN</td>\n",
       "      <td>NaN</td>\n",
       "      <td>NaN</td>\n",
       "    </tr>\n",
       "    <tr>\n",
       "      <th>3</th>\n",
       "      <td>I Need Love</td>\n",
       "      <td>LL Cool J</td>\n",
       "      <td>https://genius.com/Ll-cool-j-i-need-love-lyrics</td>\n",
       "      <td>[('[Verse 1]', 'when i\\'m alone in my room som...</td>\n",
       "      <td>when i'm alone in my room sometimes i stare at...</td>\n",
       "      <td>{'1987-10-24': 98, '1987-10-17': 60, '1987-10-...</td>\n",
       "      <td>{'1987-10-24': 14, '1987-10-17': 14, '1987-10-...</td>\n",
       "      <td>{'1987-10-24': 13, '1987-10-17': 12, '1987-10-...</td>\n",
       "      <td>{'1987-10-24': 60.0, '1987-10-17': 46.0, '1987...</td>\n",
       "      <td>['east coast hip hop', 'golden age hip hop', '...</td>\n",
       "      <td>...</td>\n",
       "      <td>NaN</td>\n",
       "      <td>NaN</td>\n",
       "      <td>NaN</td>\n",
       "      <td>NaN</td>\n",
       "      <td>NaN</td>\n",
       "      <td>NaN</td>\n",
       "      <td>NaN</td>\n",
       "      <td>NaN</td>\n",
       "      <td>NaN</td>\n",
       "      <td>NaN</td>\n",
       "    </tr>\n",
       "    <tr>\n",
       "      <th>4</th>\n",
       "      <td>Straight Outta Compton</td>\n",
       "      <td>N.W.A</td>\n",
       "      <td>https://genius.com/Nwa-straight-outta-compton-...</td>\n",
       "      <td>[('[Intro: Dr. Dre]', 'you are now about to wi...</td>\n",
       "      <td>you are now about to witness the strength of s...</td>\n",
       "      <td>{'2015-09-12': 61, '2015-09-05': 38}</td>\n",
       "      <td>{'2015-09-12': 38, '2015-09-05': 38}</td>\n",
       "      <td>{'2015-09-12': 2, '2015-09-05': 1}</td>\n",
       "      <td>{'2015-09-12': 38.0, '2015-09-05': nan}</td>\n",
       "      <td>['conscious hip hop', 'gangster rap', 'golden ...</td>\n",
       "      <td>...</td>\n",
       "      <td>NaN</td>\n",
       "      <td>NaN</td>\n",
       "      <td>NaN</td>\n",
       "      <td>NaN</td>\n",
       "      <td>NaN</td>\n",
       "      <td>NaN</td>\n",
       "      <td>NaN</td>\n",
       "      <td>NaN</td>\n",
       "      <td>NaN</td>\n",
       "      <td>NaN</td>\n",
       "    </tr>\n",
       "  </tbody>\n",
       "</table>\n",
       "<p>5 rows × 1688 columns</p>\n",
       "</div>"
      ],
      "text/plain": [
       "                     song              artist  \\\n",
       "0                Physical  Olivia Newton-John   \n",
       "1           Let Love Rule       Lenny Kravitz   \n",
       "2        On And On And On                ABBA   \n",
       "3             I Need Love           LL Cool J   \n",
       "4  Straight Outta Compton               N.W.A   \n",
       "\n",
       "                                                 url  \\\n",
       "0  https://genius.com/Olivia-newton-john-physical...   \n",
       "1  https://genius.com/Lenny-kravitz-let-love-rule...   \n",
       "2    https://genius.com/Abba-on-and-on-and-on-lyrics   \n",
       "3    https://genius.com/Ll-cool-j-i-need-love-lyrics   \n",
       "4  https://genius.com/Nwa-straight-outta-compton-...   \n",
       "\n",
       "                                              lyrics  \\\n",
       "0  [('[Verse 1]', \"i'm sayin' all the things that...   \n",
       "1  [('[Verse 1]', \"love is gentle as a rose and l...   \n",
       "2  [('[Verse 1]', 'i was at a party and this fell...   \n",
       "3  [('[Verse 1]', 'when i\\'m alone in my room som...   \n",
       "4  [('[Intro: Dr. Dre]', 'you are now about to wi...   \n",
       "\n",
       "                                         lyrics_text  \\\n",
       "0  i'm sayin' all the things that i know you'll l...   \n",
       "1  love is gentle as a rose and love can conquer ...   \n",
       "2  i was at a party and this fella said to me \"so...   \n",
       "3  when i'm alone in my room sometimes i stare at...   \n",
       "4  you are now about to witness the strength of s...   \n",
       "\n",
       "                                                rank  \\\n",
       "0  {'1982-03-27': 95, '1982-03-20': 56, '1982-03-...   \n",
       "1  {'1990-02-17': 99, '1990-02-10': 91, '1990-02-...   \n",
       "2  {'1981-08-01': 99, '1981-07-25': 94, '1981-07-...   \n",
       "3  {'1987-10-24': 98, '1987-10-17': 60, '1987-10-...   \n",
       "4               {'2015-09-12': 61, '2015-09-05': 38}   \n",
       "\n",
       "                                           peak_rank  \\\n",
       "0  {'1982-03-27': 1, '1982-03-20': 1, '1982-03-13...   \n",
       "1  {'1990-02-17': 89, '1990-02-10': 89, '1990-02-...   \n",
       "2  {'1981-08-01': 90, '1981-07-25': 90, '1981-07-...   \n",
       "3  {'1987-10-24': 14, '1987-10-17': 14, '1987-10-...   \n",
       "4               {'2015-09-12': 38, '2015-09-05': 38}   \n",
       "\n",
       "                                      weeks_on_board  \\\n",
       "0  {'1982-03-27': 26, '1982-03-20': 25, '1982-03-...   \n",
       "1  {'1990-02-17': 4, '1990-02-10': 3, '1990-02-03...   \n",
       "2  {'1981-08-01': 6, '1981-07-25': 5, '1981-07-18...   \n",
       "3  {'1987-10-24': 13, '1987-10-17': 12, '1987-10-...   \n",
       "4                 {'2015-09-12': 2, '2015-09-05': 1}   \n",
       "\n",
       "                                           last_week  \\\n",
       "0  {'1982-03-27': 56.0, '1982-03-20': 46.0, '1982...   \n",
       "1  {'1990-02-17': 91.0, '1990-02-10': 89.0, '1990...   \n",
       "2  {'1981-08-01': 94.0, '1981-07-25': 95.0, '1981...   \n",
       "3  {'1987-10-24': 60.0, '1987-10-17': 46.0, '1987...   \n",
       "4            {'2015-09-12': 38.0, '2015-09-05': nan}   \n",
       "\n",
       "                                               genre  ...  Unnamed: 1678  \\\n",
       "0  ['adult standards', 'australian dance', 'disco...  ...            NaN   \n",
       "1             ['permanent wave', 'pop rock', 'rock']  ...            NaN   \n",
       "2                         ['europop', 'swedish pop']  ...            NaN   \n",
       "3  ['east coast hip hop', 'golden age hip hop', '...  ...            NaN   \n",
       "4  ['conscious hip hop', 'gangster rap', 'golden ...  ...            NaN   \n",
       "\n",
       "  Unnamed: 1679 Unnamed: 1680  Unnamed: 1681  Unnamed: 1682  Unnamed: 1683  \\\n",
       "0           NaN           NaN            NaN            NaN            NaN   \n",
       "1           NaN           NaN            NaN            NaN            NaN   \n",
       "2           NaN           NaN            NaN            NaN            NaN   \n",
       "3           NaN           NaN            NaN            NaN            NaN   \n",
       "4           NaN           NaN            NaN            NaN            NaN   \n",
       "\n",
       "  Unnamed: 1684  Unnamed: 1685  Unnamed: 1686  Unnamed: 1687  \n",
       "0           NaN            NaN            NaN            NaN  \n",
       "1           NaN            NaN            NaN            NaN  \n",
       "2           NaN            NaN            NaN            NaN  \n",
       "3           NaN            NaN            NaN            NaN  \n",
       "4           NaN            NaN            NaN            NaN  \n",
       "\n",
       "[5 rows x 1688 columns]"
      ]
     },
     "execution_count": 33,
     "metadata": {},
     "output_type": "execute_result"
    }
   ],
   "source": [
    "df_billboard = pd.read_csv('data/sentiment_selection.csv')\n",
    "df_billboard.head(5)"
   ]
  },
  {
   "cell_type": "code",
   "execution_count": 34,
   "metadata": {},
   "outputs": [],
   "source": [
    "# df_billboard['lyrics'] = df_billboard['lyrics'].map(literal_eval)\n",
    "df_billboard = df_billboard[df_billboard['lyrics_text'].notnull()]"
   ]
  },
  {
   "cell_type": "code",
   "execution_count": 46,
   "metadata": {},
   "outputs": [],
   "source": [
    "# lyrics = df_billboard['lyrics'].to_list()\n",
    "# lyrics[0]\n",
    "splitter = 10\n",
    "\n",
    "def process_lyrics(lyrics):\n",
    "    if lyrics:\n",
    "        lyrics_list = []\n",
    "        lyrics_split = lyrics.split(' ')\n",
    "        num_words = len(lyrics_split)\n",
    "        counter = num_words // splitter\n",
    "        for i in range(10):\n",
    "            if i == 9:\n",
    "                lyrics_curr = lyrics_split[(i * counter) - counter // 4:]\n",
    "            elif i == 0:\n",
    "                lyrics_curr = lyrics_split[(i * counter):((i + 1) * counter + counter // 4)]\n",
    "            else:\n",
    "                lyrics_curr = lyrics_split[(i * counter)  - counter // 4 : ((i + 1) * counter + counter // 4)]\n",
    "            lyrics_curr = \" \".join(lyrics_curr)\n",
    "            lyrics_list.append(lyrics_curr)\n",
    "    else:\n",
    "        print(lyrics)\n",
    "    return lyrics_list"
   ]
  },
  {
   "cell_type": "code",
   "execution_count": 47,
   "metadata": {},
   "outputs": [],
   "source": [
    "lyrics_split_by_10 = df_billboard['lyrics_text'].map(process_lyrics)"
   ]
  },
  {
   "cell_type": "code",
   "execution_count": 48,
   "metadata": {},
   "outputs": [
    {
     "data": {
      "text/plain": [
       "[\"if i die young, bury me in satin lay me down on a bed of roses sink me in the river at dawn send me away with the words of a love song oh-oh, oh-oh lord, make me a rainbow, i'll shine down\",\n",
       " \"the words of a love song oh-oh, oh-oh lord, make me a rainbow, i'll shine down on my mother she'll know i'm safe with you when she stands under my colors oh, and life ain't always what you think it ought to be, no ain't even gray, but she buries her\",\n",
       " \"always what you think it ought to be, no ain't even gray, but she buries her baby the sharp knife of a short life well, i've had just enough time if i die young, bury me in satin lay me down on a bed of roses sink me in the river\",\n",
       " \"me in satin lay me down on a bed of roses sink me in the river at dawn send me away with the words of a love song the sharp knife of a short life well, i've had just enough time and i'll be wearing white when i come into your\",\n",
       " \"well, i've had just enough time and i'll be wearing white when i come into your kingdom i'm as green as the ring on my little cold finger i've never known the lovin' of man but it sure felt nice when he was holdin' my hand there's a boy here in\",\n",
       " \"but it sure felt nice when he was holdin' my hand there's a boy here in town, says he'll love me forever who would have thought forever could be severed by [pre-bridge] the sharp knife of a short life well, i've had just enough time so put on your best boys,\",\n",
       " \"of a short life well, i've had just enough time so put on your best boys, and i'll wear my pearls what i never did is done a penny for my thoughts—oh no, i'll sell 'em for a dollar they're worth so much more after i'm a goner and maybe then\",\n",
       " \"'em for a dollar they're worth so much more after i'm a goner and maybe then you'll hear the words i've been singin' funny when you're dead, how people start listenin' if i die young, bury me in satin lay me down on a bed of roses sink me in the\",\n",
       " \"bury me in satin lay me down on a bed of roses sink me in the river at dawn send me away with the words of a love song ooh, ooh, the ballad of a dove go with peace and love gather up your tears, keep 'em in your pocket save\",\n",
       " \"dove go with peace and love gather up your tears, keep 'em in your pocket save 'em for a time when you're really gonna need 'em oh, the sharp knife of a short life well, i've had just enough time so put on your best boys, and i'll wear my pearls\"]"
      ]
     },
     "execution_count": 48,
     "metadata": {},
     "output_type": "execute_result"
    }
   ],
   "source": [
    "lyrics_split_by_10[33]"
   ]
  },
  {
   "cell_type": "code",
   "execution_count": null,
   "metadata": {},
   "outputs": [],
   "source": []
  },
  {
   "cell_type": "code",
   "execution_count": 49,
   "metadata": {},
   "outputs": [
    {
     "name": "stderr",
     "output_type": "stream",
     "text": [
      "No model was supplied, defaulted to distilbert-base-uncased-finetuned-sst-2-english and revision af0f99b (https://huggingface.co/distilbert-base-uncased-finetuned-sst-2-english).\n",
      "Using a pipeline without specifying a model name and revision in production is not recommended.\n",
      "Some layers from the model checkpoint at distilbert-base-uncased-finetuned-sst-2-english were not used when initializing TFDistilBertForSequenceClassification: ['dropout_19']\n",
      "- This IS expected if you are initializing TFDistilBertForSequenceClassification from the checkpoint of a model trained on another task or with another architecture (e.g. initializing a BertForSequenceClassification model from a BertForPreTraining model).\n",
      "- This IS NOT expected if you are initializing TFDistilBertForSequenceClassification from the checkpoint of a model that you expect to be exactly identical (initializing a BertForSequenceClassification model from a BertForSequenceClassification model).\n",
      "Some layers of TFDistilBertForSequenceClassification were not initialized from the model checkpoint at distilbert-base-uncased-finetuned-sst-2-english and are newly initialized: ['dropout_39']\n",
      "You should probably TRAIN this model on a down-stream task to be able to use it for predictions and inference.\n"
     ]
    }
   ],
   "source": [
    "from transformers import pipeline\n",
    "\n",
    "sentiment_pipeline = pipeline(\"sentiment-analysis\")\n",
    "\n",
    "def get_positivity_scores(text):\n",
    "    raw_scores = sentiment_pipeline(text)\n",
    "    scores = [raw_score['score'] if raw_score['label'] == 'POSITIVE' else -raw_score['score'] for raw_score in raw_scores]\n",
    "    return scores\n",
    "\n",
    "\n",
    "def append_positivity(all_lyrics):\n",
    "    positivity_list = []\n",
    "    for lyrics in all_lyrics:\n",
    "        # parts_text = list(zip(*lyrics))\n",
    "        if lyrics:\n",
    "            positivity = get_positivity_scores(lyrics)\n",
    "            positivity_list.append(positivity)\n",
    "        else:\n",
    "            positivity_list.append([])\n",
    "    df_billboard['positivity'] = positivity_list"
   ]
  },
  {
   "cell_type": "code",
   "execution_count": 50,
   "metadata": {},
   "outputs": [],
   "source": [
    "append_positivity(lyrics_split_by_10)"
   ]
  },
  {
   "cell_type": "code",
   "execution_count": 51,
   "metadata": {},
   "outputs": [],
   "source": [
    "df_billboard.to_csv('data/positivity_on_selection.csv')"
   ]
  },
  {
   "cell_type": "code",
   "execution_count": null,
   "metadata": {},
   "outputs": [],
   "source": []
  }
 ],
 "metadata": {
  "kernelspec": {
   "display_name": "Python 3.9.6 64-bit",
   "language": "python",
   "name": "python3"
  },
  "language_info": {
   "codemirror_mode": {
    "name": "ipython",
    "version": 3
   },
   "file_extension": ".py",
   "mimetype": "text/x-python",
   "name": "python",
   "nbconvert_exporter": "python",
   "pygments_lexer": "ipython3",
   "version": "3.9.6"
  },
  "orig_nbformat": 4,
  "vscode": {
   "interpreter": {
    "hash": "aee8b7b246df8f9039afb4144a1f6fd8d2ca17a180786b69acc140d282b71a49"
   }
  }
 },
 "nbformat": 4,
 "nbformat_minor": 2
}
