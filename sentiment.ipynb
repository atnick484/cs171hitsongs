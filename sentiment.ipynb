{
 "cells": [
  {
   "cell_type": "code",
   "execution_count": 27,
   "metadata": {},
   "outputs": [],
   "source": [
    "from bs4 import BeautifulSoup\n",
    "import requests\n",
    "import re\n",
    "import pandas as pd\n",
    "import numpy as np\n",
    "\n",
    "from ast import literal_eval"
   ]
  },
  {
   "cell_type": "code",
   "execution_count": 12,
   "metadata": {},
   "outputs": [
    {
     "name": "stderr",
     "output_type": "stream",
     "text": [
      "No model was supplied, defaulted to distilbert-base-uncased-finetuned-sst-2-english and revision af0f99b (https://huggingface.co/distilbert-base-uncased-finetuned-sst-2-english).\n",
      "Using a pipeline without specifying a model name and revision in production is not recommended.\n"
     ]
    }
   ],
   "source": [
    "sentiment_pipeline = pipeline(\"sentiment-analysis\")"
   ]
  },
  {
   "cell_type": "code",
   "execution_count": 13,
   "metadata": {},
   "outputs": [
    {
     "data": {
      "text/plain": [
       "[{'label': 'POSITIVE', 'score': 0.9998656511306763},\n",
       " {'label': 'NEGATIVE', 'score': 0.9845187664031982}]"
      ]
     },
     "execution_count": 13,
     "metadata": {},
     "output_type": "execute_result"
    }
   ],
   "source": [
    "data = [\"I love you\", \"I am running a marathon without shoes\"]\n",
    "sentiment_pipeline(data)"
   ]
  },
  {
   "cell_type": "code",
   "execution_count": 16,
   "metadata": {},
   "outputs": [
    {
     "data": {
      "text/html": [
       "<div>\n",
       "<style scoped>\n",
       "    .dataframe tbody tr th:only-of-type {\n",
       "        vertical-align: middle;\n",
       "    }\n",
       "\n",
       "    .dataframe tbody tr th {\n",
       "        vertical-align: top;\n",
       "    }\n",
       "\n",
       "    .dataframe thead th {\n",
       "        text-align: right;\n",
       "    }\n",
       "</style>\n",
       "<table border=\"1\" class=\"dataframe\">\n",
       "  <thead>\n",
       "    <tr style=\"text-align: right;\">\n",
       "      <th></th>\n",
       "      <th>song</th>\n",
       "      <th>artist</th>\n",
       "      <th>url</th>\n",
       "      <th>lyrics</th>\n",
       "      <th>lyrics_text</th>\n",
       "    </tr>\n",
       "  </thead>\n",
       "  <tbody>\n",
       "    <tr>\n",
       "      <th>0</th>\n",
       "      <td>Blinding Lights</td>\n",
       "      <td>The Weeknd</td>\n",
       "      <td>https://genius.com/The-weeknd-blinding-lights-...</td>\n",
       "      <td>[('[Intro]', 'yeah'), ('[Verse 1]', \"i've been...</td>\n",
       "      <td>yeah i've been tryna call i've been on my own ...</td>\n",
       "    </tr>\n",
       "    <tr>\n",
       "      <th>1</th>\n",
       "      <td>Radioactive</td>\n",
       "      <td>Imagine Dragons</td>\n",
       "      <td>https://genius.com/Imagine-dragons-radioactive...</td>\n",
       "      <td>[('[Intro]', 'whoa, oh-oh whoa, oh-oh whoa, oh...</td>\n",
       "      <td>whoa, oh-oh whoa, oh-oh whoa, oh-oh whoa i'm w...</td>\n",
       "    </tr>\n",
       "    <tr>\n",
       "      <th>2</th>\n",
       "      <td>Sail</td>\n",
       "      <td>AWOLNATION</td>\n",
       "      <td>https://genius.com/Awolnation-sail-lyrics</td>\n",
       "      <td>[('[Intro]', 'sail'), ('[Verse 1]', 'this is h...</td>\n",
       "      <td>sail this is how i show my love i made it in m...</td>\n",
       "    </tr>\n",
       "    <tr>\n",
       "      <th>3</th>\n",
       "      <td>I'm Yours</td>\n",
       "      <td>Jason Mraz</td>\n",
       "      <td>https://genius.com/Jason-mraz-im-yours-lyrics</td>\n",
       "      <td>[('[Verse 1]', \"well you done done me in; you ...</td>\n",
       "      <td>well you done done me in; you bet i felt it i ...</td>\n",
       "    </tr>\n",
       "    <tr>\n",
       "      <th>4</th>\n",
       "      <td>How Do I Live</td>\n",
       "      <td>LeAnn Rimes</td>\n",
       "      <td>https://genius.com/Leann-rimes-how-do-i-live-l...</td>\n",
       "      <td>[('[Verse 1]', 'how do i get through one night...</td>\n",
       "      <td>how do i get through one night without you? if...</td>\n",
       "    </tr>\n",
       "  </tbody>\n",
       "</table>\n",
       "</div>"
      ],
      "text/plain": [
       "              song           artist  \\\n",
       "0  Blinding Lights       The Weeknd   \n",
       "1      Radioactive  Imagine Dragons   \n",
       "2             Sail       AWOLNATION   \n",
       "3        I'm Yours       Jason Mraz   \n",
       "4    How Do I Live      LeAnn Rimes   \n",
       "\n",
       "                                                 url  \\\n",
       "0  https://genius.com/The-weeknd-blinding-lights-...   \n",
       "1  https://genius.com/Imagine-dragons-radioactive...   \n",
       "2          https://genius.com/Awolnation-sail-lyrics   \n",
       "3      https://genius.com/Jason-mraz-im-yours-lyrics   \n",
       "4  https://genius.com/Leann-rimes-how-do-i-live-l...   \n",
       "\n",
       "                                              lyrics  \\\n",
       "0  [('[Intro]', 'yeah'), ('[Verse 1]', \"i've been...   \n",
       "1  [('[Intro]', 'whoa, oh-oh whoa, oh-oh whoa, oh...   \n",
       "2  [('[Intro]', 'sail'), ('[Verse 1]', 'this is h...   \n",
       "3  [('[Verse 1]', \"well you done done me in; you ...   \n",
       "4  [('[Verse 1]', 'how do i get through one night...   \n",
       "\n",
       "                                         lyrics_text  \n",
       "0  yeah i've been tryna call i've been on my own ...  \n",
       "1  whoa, oh-oh whoa, oh-oh whoa, oh-oh whoa i'm w...  \n",
       "2  sail this is how i show my love i made it in m...  \n",
       "3  well you done done me in; you bet i felt it i ...  \n",
       "4  how do i get through one night without you? if...  "
      ]
     },
     "execution_count": 16,
     "metadata": {},
     "output_type": "execute_result"
    }
   ],
   "source": [
    "df_billboard = pd.read_csv('data/df_billboard_0_100.csv')\n",
    "df_billboard.head()"
   ]
  },
  {
   "cell_type": "code",
   "execution_count": 21,
   "metadata": {},
   "outputs": [],
   "source": [
    "df_billboard['lyrics'] = df_billboard['lyrics'].map(literal_eval)"
   ]
  },
  {
   "cell_type": "code",
   "execution_count": 26,
   "metadata": {},
   "outputs": [
    {
     "data": {
      "text/plain": [
       "[('[Intro]', 'yeah'),\n",
       " ('[Verse 1]',\n",
       "  \"i've been tryna call i've been on my own for long enough maybe you can show me\\u2005how\\u2005to love, maybe i'm\\u2005going through withdrawals you don't even have\\u2005to do too much you can turn me on with just a touch, baby\"),\n",
       " ('[Pre-Chorus]',\n",
       "  \"i look around and sin city's cold and empty (oh) no one's around to judge me (oh) i can't see clearly when you're gone\"),\n",
       " ('[Chorus]',\n",
       "  \"i said, ooh, i'm blinded by the lights no, i can't sleep until i feel your touch i said, ooh, i'm drowning in the night oh, when i'm like this, you're the one i trust hey, hey, hey\"),\n",
       " ('[Verse 2]',\n",
       "  \"i'm running out of time 'cause i can see the sun light up the sky so i hit the road in overdrive, baby, oh\"),\n",
       " ('[Pre-Chorus]',\n",
       "  \"the city's cold and empty (oh) no one's around to judge me (oh) i can't see clearly when you're gone\"),\n",
       " ('[Chorus]',\n",
       "  \"i said, ooh, i'm blinded by the lights no, i can't sleep until i feel your touch i said, ooh, i'm drowning in the night oh, when i'm like this, you're the one i trust\"),\n",
       " ('[Bridge]',\n",
       "  \"i'm just calling back to let you know (back to let you know) i could never say it on the phone (say it on the phone) will never let you go this time (ooh)\"),\n",
       " ('[Chorus]',\n",
       "  \"i said, ooh, i'm blinded by the lights no, i can't sleep until i feel your touch hey, hey, hey hey, hey, hey\"),\n",
       " ('[Outro]',\n",
       "  \"i said, ooh, i'm blinded by the lights no, i can't sleep until i feel your touch\")]"
      ]
     },
     "execution_count": 26,
     "metadata": {},
     "output_type": "execute_result"
    }
   ],
   "source": [
    "lyrics = df_billboard['lyrics'].to_list()\n",
    "lyrics[0]"
   ]
  },
  {
   "cell_type": "code",
   "execution_count": 30,
   "metadata": {},
   "outputs": [
    {
     "data": {
      "text/plain": [
       "('yeah',\n",
       " \"i've been tryna call i've been on my own for long enough maybe you can show me\\u2005how\\u2005to love, maybe i'm\\u2005going through withdrawals you don't even have\\u2005to do too much you can turn me on with just a touch, baby\",\n",
       " \"i look around and sin city's cold and empty (oh) no one's around to judge me (oh) i can't see clearly when you're gone\",\n",
       " \"i said, ooh, i'm blinded by the lights no, i can't sleep until i feel your touch i said, ooh, i'm drowning in the night oh, when i'm like this, you're the one i trust hey, hey, hey\",\n",
       " \"i'm running out of time 'cause i can see the sun light up the sky so i hit the road in overdrive, baby, oh\",\n",
       " \"the city's cold and empty (oh) no one's around to judge me (oh) i can't see clearly when you're gone\",\n",
       " \"i said, ooh, i'm blinded by the lights no, i can't sleep until i feel your touch i said, ooh, i'm drowning in the night oh, when i'm like this, you're the one i trust\",\n",
       " \"i'm just calling back to let you know (back to let you know) i could never say it on the phone (say it on the phone) will never let you go this time (ooh)\",\n",
       " \"i said, ooh, i'm blinded by the lights no, i can't sleep until i feel your touch hey, hey, hey hey, hey, hey\",\n",
       " \"i said, ooh, i'm blinded by the lights no, i can't sleep until i feel your touch\")"
      ]
     },
     "execution_count": 30,
     "metadata": {},
     "output_type": "execute_result"
    }
   ],
   "source": [
    "song_parts, text = list(zip(*lyrics[0]))\n",
    "text"
   ]
  },
  {
   "cell_type": "code",
   "execution_count": 78,
   "metadata": {},
   "outputs": [
    {
     "name": "stderr",
     "output_type": "stream",
     "text": [
      "No model was supplied, defaulted to distilbert-base-uncased-finetuned-sst-2-english and revision af0f99b (https://huggingface.co/distilbert-base-uncased-finetuned-sst-2-english).\n",
      "Using a pipeline without specifying a model name and revision in production is not recommended.\n"
     ]
    }
   ],
   "source": [
    "from transformers import pipeline\n",
    "\n",
    "sentiment_pipeline = pipeline(\"sentiment-analysis\")\n",
    "\n",
    "def get_positivity_scores(text):\n",
    "    raw_scores = sentiment_pipeline(list(text))\n",
    "    scores = [raw_score['score'] if raw_score['label'] == 'POSITIVE' else -raw_score['score'] for raw_score in raw_scores]\n",
    "    return scores\n",
    "\n",
    "\n",
    "def append_positivity(all_lyrics):\n",
    "    positivity_list = []\n",
    "    for lyrics in all_lyrics:\n",
    "        parts_text = list(zip(*lyrics))\n",
    "        if parts_text:\n",
    "            positivity = list(zip(parts_text[0], get_positivity_scores(text)))\n",
    "            positivity_list.append(positivity)\n",
    "        else:\n",
    "            positivity_list.append([])\n",
    "    df_billboard['positivity'] = positivity_list"
   ]
  },
  {
   "cell_type": "code",
   "execution_count": 79,
   "metadata": {},
   "outputs": [],
   "source": [
    "append_positivity(lyrics)"
   ]
  },
  {
   "cell_type": "code",
   "execution_count": 81,
   "metadata": {},
   "outputs": [],
   "source": [
    "df_billboard.to_csv('data/positivity.csv')"
   ]
  },
  {
   "cell_type": "code",
   "execution_count": null,
   "metadata": {},
   "outputs": [],
   "source": []
  }
 ],
 "metadata": {
  "interpreter": {
   "hash": "73c5e4538f5f5c23305b9ceb6fac003578e9c51b4dbcf7b1ac1dae39f07c2dbf"
  },
  "kernelspec": {
   "display_name": "Python 3.9.13 ('thesis')",
   "language": "python",
   "name": "python3"
  },
  "language_info": {
   "codemirror_mode": {
    "name": "ipython",
    "version": 3
   },
   "file_extension": ".py",
   "mimetype": "text/x-python",
   "name": "python",
   "nbconvert_exporter": "python",
   "pygments_lexer": "ipython3",
   "version": "3.9.13"
  },
  "orig_nbformat": 4
 },
 "nbformat": 4,
 "nbformat_minor": 2
}
